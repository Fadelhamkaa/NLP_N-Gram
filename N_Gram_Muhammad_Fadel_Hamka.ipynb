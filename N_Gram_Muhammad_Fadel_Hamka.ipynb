{
  "nbformat": 4,
  "nbformat_minor": 0,
  "metadata": {
    "colab": {
      "provenance": [],
      "authorship_tag": "ABX9TyNV+zkY3gVB1MeS0nfFjizq",
      "include_colab_link": true
    },
    "kernelspec": {
      "name": "python3",
      "display_name": "Python 3"
    },
    "language_info": {
      "name": "python"
    }
  },
  "cells": [
    {
      "cell_type": "markdown",
      "metadata": {
        "id": "view-in-github",
        "colab_type": "text"
      },
      "source": [
        "<a href=\"https://colab.research.google.com/github/Fadelhamkaa/NLP_N-Gram/blob/main/N_Gram_Muhammad_Fadel_Hamka.ipynb\" target=\"_parent\"><img src=\"https://colab.research.google.com/assets/colab-badge.svg\" alt=\"Open In Colab\"/></a>"
      ]
    },
    {
      "cell_type": "markdown",
      "source": [
        "# **2. TOKENISASI TEKS**"
      ],
      "metadata": {
        "id": "UjvBiVigibDS"
      }
    },
    {
      "cell_type": "code",
      "execution_count": 1,
      "metadata": {
        "id": "aTsw4D--fvvP",
        "colab": {
          "base_uri": "https://localhost:8080/"
        },
        "outputId": "59c2a83a-a3c6-4fcc-f7b3-ed2d6d216315"
      },
      "outputs": [
        {
          "output_type": "stream",
          "name": "stdout",
          "text": [
            "1. Alarm token listrik adalah fitur yang terdapat pada meteran listrik prabayar\n",
            "2. Fungsinya adalah untuk memperingatkan pengguna bahwa saldo token listrik mereka sudah hampir habis\n",
            "3. Alarm ini akan berbunyi ketika sisa daya mencapai batas tertentu, biasanya sekitar 20 kWh atau kurang\n"
          ]
        }
      ],
      "source": [
        "#Tokenisasi teks\n",
        "teks = '''Alarm token listrik adalah fitur yang terdapat pada meteran listrik prabayar.\n",
        "Fungsinya adalah untuk memperingatkan pengguna bahwa saldo token listrik mereka sudah hampir habis.\n",
        "Alarm ini akan berbunyi ketika sisa daya mencapai batas tertentu, biasanya sekitar 20 kWh atau kurang.\n",
        "'''\n",
        "\n",
        "kalimat_token = [kalimat.strip() for kalimat in teks.split('.') if kalimat.strip()]\n",
        "for i, kalimat in enumerate(kalimat_token, 1):\n",
        "    print(f\"{i}. {kalimat}\")"
      ]
    },
    {
      "cell_type": "code",
      "source": [
        "kata_token = teks.split()\n",
        "for i, kata in enumerate(kata_token, 1):\n",
        "    print(f\"{i}. {kata}\")"
      ],
      "metadata": {
        "colab": {
          "base_uri": "https://localhost:8080/"
        },
        "id": "UWJIo7ZRi113",
        "outputId": "eeb4ff91-592a-46fb-f7c0-338b391c854c"
      },
      "execution_count": 2,
      "outputs": [
        {
          "output_type": "stream",
          "name": "stdout",
          "text": [
            "1. Alarm\n",
            "2. token\n",
            "3. listrik\n",
            "4. adalah\n",
            "5. fitur\n",
            "6. yang\n",
            "7. terdapat\n",
            "8. pada\n",
            "9. meteran\n",
            "10. listrik\n",
            "11. prabayar.\n",
            "12. Fungsinya\n",
            "13. adalah\n",
            "14. untuk\n",
            "15. memperingatkan\n",
            "16. pengguna\n",
            "17. bahwa\n",
            "18. saldo\n",
            "19. token\n",
            "20. listrik\n",
            "21. mereka\n",
            "22. sudah\n",
            "23. hampir\n",
            "24. habis.\n",
            "25. Alarm\n",
            "26. ini\n",
            "27. akan\n",
            "28. berbunyi\n",
            "29. ketika\n",
            "30. sisa\n",
            "31. daya\n",
            "32. mencapai\n",
            "33. batas\n",
            "34. tertentu,\n",
            "35. biasanya\n",
            "36. sekitar\n",
            "37. 20\n",
            "38. kWh\n",
            "39. atau\n",
            "40. kurang.\n"
          ]
        }
      ]
    },
    {
      "cell_type": "markdown",
      "source": [
        "# **3. Pembuatan Bigram dan Fourgram**"
      ],
      "metadata": {
        "id": "8641wn93i_xL"
      }
    },
    {
      "cell_type": "code",
      "source": [
        "def generate_ngram(teks, n):\n",
        "    tokens = teks.split()\n",
        "    ngram = [tuple(tokens[i:i+n]) for i in range(len(tokens)-n+1)]\n",
        "    return ngram\n",
        "\n",
        "bigram = generate_ngram(teks, 2)\n",
        "fourgram = generate_ngram(teks, 4)\n",
        "\n",
        "print(\"Bigram:\")\n",
        "for i, pair in enumerate(bigram, 1):\n",
        "    print(f\"{i}. {pair}\")\n",
        "\n",
        "print(\"\\nFourgram:\")\n",
        "for i, pair in enumerate(fourgram, 1):\n",
        "    print(f\"{i}. {pair}\")"
      ],
      "metadata": {
        "colab": {
          "base_uri": "https://localhost:8080/"
        },
        "id": "FbCNWP1yjEIF",
        "outputId": "67e7d5ae-4ebd-4cfb-cedc-bd995066717d"
      },
      "execution_count": 3,
      "outputs": [
        {
          "output_type": "stream",
          "name": "stdout",
          "text": [
            "Bigram:\n",
            "1. ('Alarm', 'token')\n",
            "2. ('token', 'listrik')\n",
            "3. ('listrik', 'adalah')\n",
            "4. ('adalah', 'fitur')\n",
            "5. ('fitur', 'yang')\n",
            "6. ('yang', 'terdapat')\n",
            "7. ('terdapat', 'pada')\n",
            "8. ('pada', 'meteran')\n",
            "9. ('meteran', 'listrik')\n",
            "10. ('listrik', 'prabayar.')\n",
            "11. ('prabayar.', 'Fungsinya')\n",
            "12. ('Fungsinya', 'adalah')\n",
            "13. ('adalah', 'untuk')\n",
            "14. ('untuk', 'memperingatkan')\n",
            "15. ('memperingatkan', 'pengguna')\n",
            "16. ('pengguna', 'bahwa')\n",
            "17. ('bahwa', 'saldo')\n",
            "18. ('saldo', 'token')\n",
            "19. ('token', 'listrik')\n",
            "20. ('listrik', 'mereka')\n",
            "21. ('mereka', 'sudah')\n",
            "22. ('sudah', 'hampir')\n",
            "23. ('hampir', 'habis.')\n",
            "24. ('habis.', 'Alarm')\n",
            "25. ('Alarm', 'ini')\n",
            "26. ('ini', 'akan')\n",
            "27. ('akan', 'berbunyi')\n",
            "28. ('berbunyi', 'ketika')\n",
            "29. ('ketika', 'sisa')\n",
            "30. ('sisa', 'daya')\n",
            "31. ('daya', 'mencapai')\n",
            "32. ('mencapai', 'batas')\n",
            "33. ('batas', 'tertentu,')\n",
            "34. ('tertentu,', 'biasanya')\n",
            "35. ('biasanya', 'sekitar')\n",
            "36. ('sekitar', '20')\n",
            "37. ('20', 'kWh')\n",
            "38. ('kWh', 'atau')\n",
            "39. ('atau', 'kurang.')\n",
            "\n",
            "Fourgram:\n",
            "1. ('Alarm', 'token', 'listrik', 'adalah')\n",
            "2. ('token', 'listrik', 'adalah', 'fitur')\n",
            "3. ('listrik', 'adalah', 'fitur', 'yang')\n",
            "4. ('adalah', 'fitur', 'yang', 'terdapat')\n",
            "5. ('fitur', 'yang', 'terdapat', 'pada')\n",
            "6. ('yang', 'terdapat', 'pada', 'meteran')\n",
            "7. ('terdapat', 'pada', 'meteran', 'listrik')\n",
            "8. ('pada', 'meteran', 'listrik', 'prabayar.')\n",
            "9. ('meteran', 'listrik', 'prabayar.', 'Fungsinya')\n",
            "10. ('listrik', 'prabayar.', 'Fungsinya', 'adalah')\n",
            "11. ('prabayar.', 'Fungsinya', 'adalah', 'untuk')\n",
            "12. ('Fungsinya', 'adalah', 'untuk', 'memperingatkan')\n",
            "13. ('adalah', 'untuk', 'memperingatkan', 'pengguna')\n",
            "14. ('untuk', 'memperingatkan', 'pengguna', 'bahwa')\n",
            "15. ('memperingatkan', 'pengguna', 'bahwa', 'saldo')\n",
            "16. ('pengguna', 'bahwa', 'saldo', 'token')\n",
            "17. ('bahwa', 'saldo', 'token', 'listrik')\n",
            "18. ('saldo', 'token', 'listrik', 'mereka')\n",
            "19. ('token', 'listrik', 'mereka', 'sudah')\n",
            "20. ('listrik', 'mereka', 'sudah', 'hampir')\n",
            "21. ('mereka', 'sudah', 'hampir', 'habis.')\n",
            "22. ('sudah', 'hampir', 'habis.', 'Alarm')\n",
            "23. ('hampir', 'habis.', 'Alarm', 'ini')\n",
            "24. ('habis.', 'Alarm', 'ini', 'akan')\n",
            "25. ('Alarm', 'ini', 'akan', 'berbunyi')\n",
            "26. ('ini', 'akan', 'berbunyi', 'ketika')\n",
            "27. ('akan', 'berbunyi', 'ketika', 'sisa')\n",
            "28. ('berbunyi', 'ketika', 'sisa', 'daya')\n",
            "29. ('ketika', 'sisa', 'daya', 'mencapai')\n",
            "30. ('sisa', 'daya', 'mencapai', 'batas')\n",
            "31. ('daya', 'mencapai', 'batas', 'tertentu,')\n",
            "32. ('mencapai', 'batas', 'tertentu,', 'biasanya')\n",
            "33. ('batas', 'tertentu,', 'biasanya', 'sekitar')\n",
            "34. ('tertentu,', 'biasanya', 'sekitar', '20')\n",
            "35. ('biasanya', 'sekitar', '20', 'kWh')\n",
            "36. ('sekitar', '20', 'kWh', 'atau')\n",
            "37. ('20', 'kWh', 'atau', 'kurang.')\n"
          ]
        }
      ]
    },
    {
      "cell_type": "markdown",
      "source": [
        "# **4. Hitung Frekuensi Bigram**"
      ],
      "metadata": {
        "id": "0Nkry7kajIsg"
      }
    },
    {
      "cell_type": "code",
      "source": [
        "from collections import Counter\n",
        "\n",
        "bigram_counter = Counter(bigram)\n",
        "\n",
        "# Cetak hasil frekuensi bigram secara vertikal\n",
        "for i, (bigram, freq) in enumerate(bigram_counter.items(), 1):\n",
        "    print(f\"{i}. {bigram}: {freq}\")"
      ],
      "metadata": {
        "colab": {
          "base_uri": "https://localhost:8080/"
        },
        "id": "hKSVej_9jGZq",
        "outputId": "8cde907e-87f5-4070-ff42-4c1ee165edbf"
      },
      "execution_count": 4,
      "outputs": [
        {
          "output_type": "stream",
          "name": "stdout",
          "text": [
            "1. ('Alarm', 'token'): 1\n",
            "2. ('token', 'listrik'): 2\n",
            "3. ('listrik', 'adalah'): 1\n",
            "4. ('adalah', 'fitur'): 1\n",
            "5. ('fitur', 'yang'): 1\n",
            "6. ('yang', 'terdapat'): 1\n",
            "7. ('terdapat', 'pada'): 1\n",
            "8. ('pada', 'meteran'): 1\n",
            "9. ('meteran', 'listrik'): 1\n",
            "10. ('listrik', 'prabayar.'): 1\n",
            "11. ('prabayar.', 'Fungsinya'): 1\n",
            "12. ('Fungsinya', 'adalah'): 1\n",
            "13. ('adalah', 'untuk'): 1\n",
            "14. ('untuk', 'memperingatkan'): 1\n",
            "15. ('memperingatkan', 'pengguna'): 1\n",
            "16. ('pengguna', 'bahwa'): 1\n",
            "17. ('bahwa', 'saldo'): 1\n",
            "18. ('saldo', 'token'): 1\n",
            "19. ('listrik', 'mereka'): 1\n",
            "20. ('mereka', 'sudah'): 1\n",
            "21. ('sudah', 'hampir'): 1\n",
            "22. ('hampir', 'habis.'): 1\n",
            "23. ('habis.', 'Alarm'): 1\n",
            "24. ('Alarm', 'ini'): 1\n",
            "25. ('ini', 'akan'): 1\n",
            "26. ('akan', 'berbunyi'): 1\n",
            "27. ('berbunyi', 'ketika'): 1\n",
            "28. ('ketika', 'sisa'): 1\n",
            "29. ('sisa', 'daya'): 1\n",
            "30. ('daya', 'mencapai'): 1\n",
            "31. ('mencapai', 'batas'): 1\n",
            "32. ('batas', 'tertentu,'): 1\n",
            "33. ('tertentu,', 'biasanya'): 1\n",
            "34. ('biasanya', 'sekitar'): 1\n",
            "35. ('sekitar', '20'): 1\n",
            "36. ('20', 'kWh'): 1\n",
            "37. ('kWh', 'atau'): 1\n",
            "38. ('atau', 'kurang.'): 1\n"
          ]
        }
      ]
    },
    {
      "cell_type": "markdown",
      "source": [
        "# **5. Visualisasi Frekuensi Bigram**"
      ],
      "metadata": {
        "id": "_CZzMkChjf6L"
      }
    },
    {
      "cell_type": "code",
      "source": [
        "from collections import Counter\n",
        "import matplotlib.pyplot as plt\n",
        "\n",
        "# Data teks\n",
        "teks = '''Alarm token listrik adalah fitur yang terdapat pada meteran listrik prabayar.\n",
        "Fungsinya adalah untuk memperingatkan pengguna bahwa saldo token listrik mereka sudah hampir habis.\n",
        "Alarm ini akan berbunyi ketika sisa daya mencapai batas tertentu, biasanya sekitar 20 kWh atau kurang.\n",
        "'''\n",
        "\n",
        "# Fungsi untuk menghasilkan bigram\n",
        "def generate_ngram(teks, n):\n",
        "    tokens = teks.split()\n",
        "    ngram = [tuple(tokens[i:i + n]) for i in range(len(tokens) - n + 1)]\n",
        "    return ngram\n",
        "\n",
        "# Generate bigram\n",
        "bigram = generate_ngram(teks, 2)\n",
        "\n",
        "# Hitung frekuensi bigram\n",
        "bigram_counter = Counter(bigram)\n",
        "\n",
        "# Ambil Top 5 Bigram berdasarkan frekuensi\n",
        "top_5_bigram = bigram_counter.most_common(5)\n",
        "\n",
        "# Konversi label bigram menjadi string\n",
        "bigram_labels = [' '.join(bigram) for bigram, _ in top_5_bigram]\n",
        "bigram_counts = [count for _, count in top_5_bigram]\n",
        "\n",
        "# Plot bar chart\n",
        "plt.bar(bigram_labels, bigram_counts, color='skyblue')\n",
        "plt.xticks(rotation=45)\n",
        "plt.title('Top 5 Bigram')\n",
        "plt.xlabel('Bigram')\n",
        "plt.ylabel('Frequency')\n",
        "plt.tight_layout()  # Agar label tidak terpotong\n",
        "plt.show()"
      ],
      "metadata": {
        "colab": {
          "base_uri": "https://localhost:8080/",
          "height": 487
        },
        "id": "62WOONTGjGoB",
        "outputId": "52e1a92b-4701-4cf1-fdae-0314577e2799"
      },
      "execution_count": 8,
      "outputs": [
        {
          "output_type": "display_data",
          "data": {
            "text/plain": [
              "<Figure size 640x480 with 1 Axes>"
            ],
            "image/png": "[encoded data removed]"
          },
          "metadata": {}
        }
      ]
    },
    {
      "cell_type": "markdown",
      "source": [
        "# **6. N-Gram Karakter (Character-based Trigram)**"
      ],
      "metadata": {
        "id": "qul4Bo2mkXiN"
      }
    },
    {
      "cell_type": "code",
      "source": [
        "def character_trigram(kata):\n",
        "    trigram = [kata[i:i+3] for i in range(len(kata)-2)]\n",
        "    return trigram\n",
        "\n",
        "hasil_trigram = character_trigram(\"processing\")\n",
        "print(hasil_trigram)"
      ],
      "metadata": {
        "colab": {
          "base_uri": "https://localhost:8080/"
        },
        "id": "ycXDdyYSkfNG",
        "outputId": "dbac9548-fbf0-483b-d9a3-9bcf7c5af8b7"
      },
      "execution_count": 9,
      "outputs": [
        {
          "output_type": "stream",
          "name": "stdout",
          "text": [
            "['pro', 'roc', 'oce', 'ces', 'ess', 'ssi', 'sin', 'ing']\n"
          ]
        }
      ]
    }
  ]
}